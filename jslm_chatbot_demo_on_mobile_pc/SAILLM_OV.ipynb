{
 "cells": [

  {
   "cell_type": "code",
   "execution_count": 1,
   "id": "6615f8e0-b9b4-4b8b-81bf-344f50c8e9f2",
   "metadata": {},
   "outputs": [
    {
     "name": "stdout",
     "output_type": "stream",
     "text": [
      "INFO:nncf:NNCF initialized successfully. Supported frameworks detected: torch, onnx, openvino\n"
     ]
    },
    {
     "name": "stderr",
     "output_type": "stream",
     "text": [
      "D:\\testenv\\lib\\site-packages\\transformers\\utils\\import_utils.py:519: FutureWarning: `is_torch_tpu_available` is deprecated and will be removed in 4.41.0. Please use the `is_torch_xla_available` instead.\n",
      "  warnings.warn(\n"
     ]
    }
   ],
   "source": [
    "from transformers import AutoModelForCausalLM, AutoTokenizer, AutoConfig, TextStreamer\n",
    "from optimum.intel import OVModelForCausalLM\n",
    "import openvino as ov\n",
    "import os\n",
    "import nncf\n",
    "\n",
    "model_id = 'stabilityai/japanese-stablelm-instruct-gamma-7b'\n",
    "#model_id = 'stabilityai/japanese-stablelm-base-gamma-7b'\n",
    "model_vendor, model_name = model_id.split('/')\n",
    "device = 'GPU'"
   ]
  },
  {
   "cell_type": "markdown",
   "id": "d3df5c92-2de2-4476-a96d-2e4585d93ced",
   "metadata": {},
   "source": [
    "### Convert to OV Model and quantized, then save it to local"
   ]
  },
  {
   "cell_type": "code",
   "execution_count": 2,
   "id": "9624b76a-b404-4db2-9e68-9ee5dd94303b",
   "metadata": {
    "scrolled": true
   },
   "outputs": [
    {
     "name": "stderr",
     "output_type": "stream",
     "text": [
      "This architecture : mistral was not validated, only :marian, gpt2, gpt-neo, gpt-bigcode, llama, opt, gpt-neox, blenderbot, bart, pegasus, codegen, bloom, blenderbot-small architectures were validated, use at your own risk.\n",
      "Framework not specified. Using pt to export the model.\n"
     ]
    },
    {
     "data": {
      "application/vnd.jupyter.widget-view+json": {
       "model_id": "d5352aafbbba4ecf876d82e696037638",
       "version_major": 2,
       "version_minor": 0
      },
      "text/plain": [
       "Loading checkpoint shards:   0%|          | 0/3 [00:00<?, ?it/s]"
      ]
     },
     "metadata": {},
     "output_type": "display_data"
    },
    {
     "name": "stderr",
     "output_type": "stream",
     "text": [
      "Using the export variant default. Available variants are:\n",
      "    - default: The default ONNX variant.\n",
      "Using framework PyTorch: 2.2.1+cpu\n",
      "Overriding 1 configuration item(s)\n",
      "\t- use_cache -> True\n",
      "D:\\testenv\\lib\\site-packages\\transformers\\modeling_utils.py:4225: FutureWarning: `_is_quantized_training_enabled` is going to be deprecated in transformers 4.39.0. Please use `model.hf_quantizer.is_trainable` instead\n",
      "  warnings.warn(\n",
      "D:\\testenv\\lib\\site-packages\\transformers\\modeling_attn_mask_utils.py:114: TracerWarning: Converting a tensor to a Python boolean might cause the trace to be incorrect. We can't record the data flow of Python values, so this value will be treated as a constant in the future. This means that the trace might not generalize to other inputs!\n",
      "  if (input_shape[-1] > 1 or self.sliding_window is not None) and self.is_causal:\n",
      "D:\\testenv\\lib\\site-packages\\optimum\\exporters\\onnx\\model_patcher.py:301: TracerWarning: Converting a tensor to a Python boolean might cause the trace to be incorrect. We can't record the data flow of Python values, so this value will be treated as a constant in the future. This means that the trace might not generalize to other inputs!\n",
      "  if past_key_values_length > 0:\n",
      "D:\\testenv\\lib\\site-packages\\transformers\\models\\mistral\\modeling_mistral.py:120: TracerWarning: Converting a tensor to a Python boolean might cause the trace to be incorrect. We can't record the data flow of Python values, so this value will be treated as a constant in the future. This means that the trace might not generalize to other inputs!\n",
      "  if seq_len > self.max_seq_len_cached:\n",
      "D:\\testenv\\lib\\site-packages\\transformers\\models\\mistral\\modeling_mistral.py:676: TracerWarning: Converting a tensor to a Python boolean might cause the trace to be incorrect. We can't record the data flow of Python values, so this value will be treated as a constant in the future. This means that the trace might not generalize to other inputs!\n",
      "  if attention_mask.size() != (bsz, 1, q_len, kv_seq_len):\n",
      "WARNING:root:Failed to send event with the following error: <urlopen error [Errno 2] No such file or directory>\n",
      "WARNING:root:Failed to send event with the following error: <urlopen error [Errno 2] No such file or directory>\n",
      "WARNING:root:Failed to send event with the following error: <urlopen error [Errno 2] No such file or directory>\n",
      "WARNING:root:Failed to send event with the following error: <urlopen error [Errno 2] No such file or directory>\n",
      "WARNING:root:Failed to send event with the following error: <urlopen error [Errno 2] No such file or directory>\n",
      "WARNING:root:Failed to send event with the following error: <urlopen error [Errno 2] No such file or directory>\n",
      "WARNING:root:Failed to send event with the following error: <urlopen error [Errno 2] No such file or directory>\n",
      "Exception ignored in: <finalize object at 0x20e83323c00; dead>\n",
      "Traceback (most recent call last):\n",
      "  File \"C:\\Python310\\lib\\weakref.py\", line 591, in __call__\n",
      "    return info.func(*info.args, **(info.kwargs or {}))\n",
      "  File \"C:\\Python310\\lib\\tempfile.py\", line 859, in _cleanup\n",
      "    cls._rmtree(name, ignore_errors=ignore_errors)\n",
      "  File \"C:\\Python310\\lib\\tempfile.py\", line 855, in _rmtree\n",
      "    _shutil.rmtree(name, onerror=onerror)\n",
      "  File \"C:\\Python310\\lib\\shutil.py\", line 749, in rmtree\n",
      "    return _rmtree_unsafe(path, onerror)\n",
      "  File \"C:\\Python310\\lib\\shutil.py\", line 619, in _rmtree_unsafe\n",
      "    onerror(os.unlink, fullname, sys.exc_info())\n",
      "  File \"C:\\Python310\\lib\\tempfile.py\", line 846, in onerror\n",
      "    cls._rmtree(path, ignore_errors=ignore_errors)\n",
      "  File \"C:\\Python310\\lib\\tempfile.py\", line 855, in _rmtree\n",
      "    _shutil.rmtree(name, onerror=onerror)\n",
      "  File \"C:\\Python310\\lib\\shutil.py\", line 749, in rmtree\n",
      "    return _rmtree_unsafe(path, onerror)\n",
      "  File \"C:\\Python310\\lib\\shutil.py\", line 600, in _rmtree_unsafe\n",
      "    onerror(os.scandir, path, sys.exc_info())\n",
      "  File \"C:\\Python310\\lib\\shutil.py\", line 597, in _rmtree_unsafe\n",
      "    with os.scandir(path) as scandir_it:\n",
      "NotADirectoryError: [WinError 267] The directory name is invalid: 'C:\\\\Users\\\\oneapi\\\\AppData\\\\Local\\\\Temp\\\\tmpncmjahbv\\\\openvino_model.bin'\n"
     ]
    },
    {
     "data": {
      "application/vnd.jupyter.widget-view+json": {
       "model_id": "374a91b52a0641a89af8a36d5fc41629",
       "version_major": 2,
       "version_minor": 0
      },
      "text/plain": [
       "Output()"
      ]
     },
     "metadata": {},
     "output_type": "display_data"
    },
    {
     "data": {
      "text/html": [
       "<pre style=\"white-space:pre;overflow-x:auto;line-height:normal;font-family:Menlo,'DejaVu Sans Mono',consolas,'Courier New',monospace\"></pre>\n"
      ],
      "text/plain": []
     },
     "metadata": {},
     "output_type": "display_data"
    },
    {
     "data": {
      "text/html": [
       "<pre style=\"white-space:pre;overflow-x:auto;line-height:normal;font-family:Menlo,'DejaVu Sans Mono',consolas,'Courier New',monospace\">\n",
       "</pre>\n"
      ],
      "text/plain": [
       "\n"
      ]
     },
     "metadata": {},
     "output_type": "display_data"
    },
    {
     "name": "stdout",
     "output_type": "stream",
     "text": [
      "INFO:nncf:Statistics of the bitwidth distribution:\n",
      "+--------------+---------------------------+-----------------------------------+\n",
      "| Num bits (N) | % all parameters (layers) |    % ratio-defining parameters    |\n",
      "|              |                           |             (layers)              |\n",
      "+==============+===========================+===================================+\n",
      "| 8            | 23% (85 / 226)            | 20% (83 / 224)                    |\n",
      "+--------------+---------------------------+-----------------------------------+\n",
      "| 4            | 77% (141 / 226)           | 80% (141 / 224)                   |\n",
      "+--------------+---------------------------+-----------------------------------+\n"
     ]
    },
    {
     "data": {
      "application/vnd.jupyter.widget-view+json": {
       "model_id": "0f53cc4f608e492e98d5c4f7a232368a",
       "version_major": 2,
       "version_minor": 0
      },
      "text/plain": [
       "Output()"
      ]
     },
     "metadata": {},
     "output_type": "display_data"
    },
    {
     "data": {
      "text/html": [
       "<pre style=\"white-space:pre;overflow-x:auto;line-height:normal;font-family:Menlo,'DejaVu Sans Mono',consolas,'Courier New',monospace\"></pre>\n"
      ],
      "text/plain": []
     },
     "metadata": {},
     "output_type": "display_data"
    },
    {
     "data": {
      "text/html": [
       "<pre style=\"white-space:pre;overflow-x:auto;line-height:normal;font-family:Menlo,'DejaVu Sans Mono',consolas,'Courier New',monospace\">\n",
       "</pre>\n"
      ],
      "text/plain": [
       "\n"
      ]
     },
     "metadata": {},
     "output_type": "display_data"
    }
   ],
   "source": [
    "if not os.path.exists(f'{model_name}/INT4'):\n",
    "    ov_model=OVModelForCausalLM.from_pretrained(model_id, export=True, compile=False, load_in_8bit=False, trust_remote_code=True)\n",
    "    compressed_model = nncf.compress_weights(ov_model.half()._original_model, mode=nncf.CompressWeightsMode.INT4_ASYM, group_size=128, ratio=0.8)\n",
    "    os.makedirs(f'{model_name}/INT4')\n",
    "    ov.save_model(compressed_model, f'{model_name}/INT4/openvino_model.xml')"
   ]
  },
  {
   "cell_type": "markdown",
   "id": "ea253477-5055-47c6-9d61-a279978d2f09",
   "metadata": {},
   "source": [
    "### Compile the OV model"
   ]
  },
  {
   "cell_type": "code",
   "execution_count": 3,
   "id": "8e76f6b4-9362-4aac-99e0-14fd2ae95e78",
   "metadata": {},
   "outputs": [
    {
     "name": "stderr",
     "output_type": "stream",
     "text": [
      "Compiling the model to GPU ...\n"
     ]
    }
   ],
   "source": [
    "tokenizer = AutoTokenizer.from_pretrained(model_id)\n",
    "\n",
    "ov_model = OVModelForCausalLM.from_pretrained(\n",
    "    model_id = f'{model_name}/INT4',\n",
    "    device=device,\n",
    "    ov_config={\"PERFORMANCE_HINT\": \"LATENCY\", \"NUM_STREAMS\": \"1\", \"CACHE_DIR\": \"./cache\"},\n",
    "    config=AutoConfig.from_pretrained(model_id)\n",
    ")"
   ]
  },
  {
   "cell_type": "markdown",
   "id": "f75724c3-79e4-4fbd-b048-0696e055ec14",
   "metadata": {},
   "source": [
    "### Test the model"
   ]
  },
  {
   "cell_type": "code",
   "execution_count": 4,
   "id": "3ac4709b-36e0-499f-9d90-0c5cc8d37b35",
   "metadata": {},
   "outputs": [
    {
     "name": "stdin",
     "output_type": "stream",
     "text": [
      "質問をいれてください: 日本で一番速い電車の名前はなんですか？\n"
     ]
    },
    {
     "name": "stdout",
     "output_type": "stream",
     "text": [
      "** Prompt:\n",
      "以下は、タスクを説明する指示と、文脈のある入力の組み合わせです。要求を適切に満たす応答を書きなさい。\n",
      "\n",
      "### 指示: \n",
      "日本で一番速い電車の名前はなんですか？\n",
      "\n",
      "### 応答: \n",
      "-------------------------\n",
      "\n",
      "それは新幹線だよ！\n"
     ]
    }
   ],
   "source": [
    "def build_prompt(user_query, inputs=\"\", sep=\"\\n\\n### \"):\n",
    "    sys_msg = \"以下は、タスクを説明する指示と、文脈のある入力の組み合わせです。要求を適切に満たす応答を書きなさい。\"\n",
    "    p = sys_msg\n",
    "    roles = [\"指示\", \"応答\"]\n",
    "    msgs = [\": \\n\" + user_query, \": \"]\n",
    "    if inputs:\n",
    "        roles.insert(1, \"入力\")\n",
    "        msgs.insert(1, \": \\n\" + inputs)\n",
    "    for role, msg in zip(roles, msgs):\n",
    "        p += sep + role + msg\n",
    "    return p\n",
    "\n",
    "# Infer with prompt without any additional input\n",
    "query = input('質問をいれてください:')\n",
    "user_inputs = {\n",
    "    \"user_query\": query,\n",
    "    \"inputs\": \"\"\n",
    "}\n",
    "prompt = build_prompt(**user_inputs)\n",
    "\n",
    "print(f'** Prompt:\\n{prompt}\\n-------------------------')\n",
    "input_tokens = tokenizer(prompt, return_tensors='pt', add_special_tokens=False)\n",
    "streamer = TextStreamer(tokenizer, skip_prompt=True, skip_special_tokens=True)\n",
    "response = ov_model.generate(**input_tokens, \n",
    "                             pad_token_id=tokenizer.eos_token_id,\n",
    "                             eos_token_id=tokenizer.eos_token_id,\n",
    "                             max_new_tokens=300,\n",
    "                             num_return_sequences=1,\n",
    "                             temperature=1.0,\n",
    "                             do_sample=True,\n",
    "                             top_k=5,\n",
    "                             top_p=0.90,\n",
    "                             repetition_penalty=1.2,\n",
    "                             streamer=streamer)"
   ]
  },
  {
   "cell_type": "markdown",
   "id": "d304f87b-0ff0-449b-9fc2-d94014ceeb45",
   "metadata": {},
   "source": [
    "### Model running on Gradio"
   ]
  },
  {
   "cell_type": "code",
   "execution_count": 6,
   "id": "96eaab03-71f0-473b-857d-d24e92a4dc88",
   "metadata": {},
   "outputs": [
    {
     "name": "stdout",
     "output_type": "stream",
     "text": [
      "Running on local URL:  http://127.0.0.1:7860\n",
      "\n",
      "To create a public link, set `share=True` in `launch()`.\n"
     ]
    },
    {
     "data": {
      "text/html": [
       "<div><iframe src=\"http://127.0.0.1:7860/\" width=\"100%\" height=\"500\" allow=\"autoplay; camera; microphone; clipboard-read; clipboard-write;\" frameborder=\"0\" allowfullscreen></iframe></div>"
      ],
      "text/plain": [
       "<IPython.core.display.HTML object>"
      ]
     },
     "metadata": {},
     "output_type": "display_data"
    },
    {
     "data": {
      "text/plain": []
     },
     "execution_count": 6,
     "metadata": {},
     "output_type": "execute_result"
    }
   ],
   "source": [
    "from threading import Event, Thread\n",
    "from uuid import uuid4\n",
    "from typing import List, Tuple\n",
    "import torch\n",
    "import gradio as gr\n",
    "from transformers import (\n",
    "    AutoTokenizer,\n",
    "    StoppingCriteria,\n",
    "    StoppingCriteriaList,\n",
    "    TextIteratorStreamer,\n",
    ")\n",
    "\n",
    "start_message = \"\"\"\\\n",
    "設定: あなたは親切で、礼儀正しく、誠実なアシスタントです。 常に安全を保ちながら、できるだけ役立つように答えてください。 回答には、有害、非倫理的、人種差別的、性差別的、有毒、危険、または違法なコンテンツを含めてはいけません。 回答は社会的に偏見がなく、本質的に前向きなものであることを確認してください。\n",
    "質問が意味をなさない場合、または事実に一貫性がない場合は、正しくないことに答えるのではなく、その理由を説明してください。 質問の答えがわからない場合は、誤った情報を共有しないでください。\\\n",
    "\"\"\"\n",
    "\n",
    "model_name = model_id\n",
    "start_message = \"start_message\"\n",
    "current_message_template = \"ユーザー: {user}\\nシステム: {assistant}\"\n",
    "tokenizer_kwargs = {\"add_special_tokens\": False}\n",
    "\n",
    "\n",
    "examples = [\n",
    "    [\"OpenVINOとは何ですか?\"],\n",
    "    [\"沖縄県の名産品をいくつかおしえてください。\"],\n",
    "    [\"明治時代の作家を５人教えてください。\"],\n",
    "    [\"東北地方の県をすべて教えてください。\"],\n",
    "    [\"スト２のリュウの必殺技の名前は？\"],\n",
    "    [\"90年代に日本で売れたアーティストを５組教えてください。\"],\n",
    "    [\"俳句のルールを教えてください。\"],\n",
    "]\n",
    "\n",
    "max_new_tokens = 256\n",
    "\n",
    "class StopOnTokens(StoppingCriteria):\n",
    "    def __init__(self, token_ids):\n",
    "        self.token_ids = token_ids\n",
    "\n",
    "    def __call__(\n",
    "        self, input_ids: torch.LongTensor, scores: torch.FloatTensor, **kwargs\n",
    "    ) -> bool:\n",
    "        for stop_id in self.token_ids:\n",
    "            if input_ids[0][-1] == stop_id:\n",
    "                return True\n",
    "        return False\n",
    "\n",
    "\n",
    "def convert_history_to_token(history: List[Tuple[str, str]]):\n",
    "    if history_template is None:\n",
    "        messages = [{\"role\": \"system\", \"content\": start_message}]\n",
    "        for idx, (user_msg, model_msg) in enumerate(history):\n",
    "            if idx == len(history) - 1 and not model_msg:\n",
    "                messages.append({\"role\": \"user\", \"content\": user_msg})\n",
    "                break\n",
    "            if user_msg:\n",
    "                messages.append({\"role\": \"user\", \"content\": user_msg})\n",
    "            if model_msg:\n",
    "                messages.append({\"role\": \"assistant\", \"content\": model_msg})\n",
    "        input_token = tok.apply_chat_template(messages,\n",
    "                                              add_generation_prompt=True,\n",
    "                                              tokenize=True,\n",
    "                                              return_tensors=\"pt\")\n",
    "    else:\n",
    "        text = start_message + \"\".join(\n",
    "            [\n",
    "                \"\".join(\n",
    "                    [\n",
    "                        history_template.format(\n",
    "                            num=round, user=item[0], assistant=item[1]\n",
    "                        )\n",
    "                    ]\n",
    "                )\n",
    "                for round, item in enumerate(history[:-1])\n",
    "            ]\n",
    "        )\n",
    "        text += \"\".join(\n",
    "            [\n",
    "                \"\".join(\n",
    "                    [\n",
    "                        current_message_template.format(\n",
    "                            num=len(history) + 1,\n",
    "                            user=history[-1][0],\n",
    "                            assistant=history[-1][1],\n",
    "                        )\n",
    "                    ]\n",
    "                )\n",
    "            ]\n",
    "        )\n",
    "        input_token = tokenizer(text, return_tensors=\"pt\", **tokenizer_kwargs).input_ids\n",
    "    return input_token\n",
    "\n",
    "\n",
    "def user(message, history):\n",
    "    return \"\", history + [[message, \"\"]]\n",
    "\n",
    "\n",
    "def bot(history, temperature, top_p, top_k, repetition_penalty, conversation_id):\n",
    "    def build_prompt(user_query, inputs=\"\", sep=\"\\n\\n### \"):\n",
    "        sys_msg = \"\"\n",
    "        p = sys_msg\n",
    "        roles = [\"指示\", \"応答\"]\n",
    "        msgs = [\": \\n\" + user_query, \": \"]\n",
    "        if inputs:\n",
    "            roles.insert(1, \"入力\")\n",
    "            msgs.insert(1, \": \\n\" + inputs)\n",
    "        for role, msg in zip(roles, msgs):\n",
    "            p += sep + role + msg\n",
    "        return p\n",
    "\n",
    "    # Infer with prompt without any additional input\n",
    "    user_inputs = {\n",
    "        \"user_query\": history[-1][0],\n",
    "        \"inputs\": \"\"\n",
    "    }\n",
    "    prompt = build_prompt(**user_inputs)\n",
    "    \n",
    "\n",
    "\n",
    "    input_tokens = tokenizer(prompt, return_tensors='pt', add_special_tokens=False)\n",
    "    streamer = TextIteratorStreamer(\n",
    "        tokenizer, timeout=30.0, skip_prompt=True, skip_special_tokens=True\n",
    "    )\n",
    "    \n",
    "\n",
    "    stream_complete = Event()\n",
    "\n",
    "    def generate_and_signal_complete():\n",
    "\n",
    "        global start_time\n",
    "        ov_model.generate(\n",
    "            **input_tokens, \n",
    "            pad_token_id=tokenizer.eos_token_id,\n",
    "            eos_token_id=tokenizer.eos_token_id,\n",
    "            max_new_tokens=300,\n",
    "            num_return_sequences=1,\n",
    "            temperature=temperature,\n",
    "            do_sample=True,\n",
    "            top_k=top_k,\n",
    "            top_p=top_p,\n",
    "            repetition_penalty=repetition_penalty,\n",
    "            streamer=streamer\n",
    "        )\n",
    "        stream_complete.set()\n",
    "\n",
    "    def text_processor(partial_text, new_text):\n",
    "        new_text = new_text.replace(\"システム:\", \"\")\n",
    "        partial_text += new_text\n",
    "        return partial_text\n",
    "\n",
    "    t1 = Thread(target=generate_and_signal_complete)\n",
    "    t1.start()\n",
    "\n",
    "    partial_text = \"\"\n",
    "    for new_text in streamer:\n",
    "        partial_text = text_processor(partial_text, new_text)\n",
    "\n",
    "        history[-1][1] = partial_text\n",
    "        yield history\n",
    "\n",
    "\n",
    "def get_uuid():\n",
    "    return str(uuid4())\n",
    "\n",
    "\n",
    "with gr.Blocks(\n",
    "    theme=gr.themes.Soft(),\n",
    "    css=\".disclaimer {font-variant-caps: all-small-caps;}\",\n",
    ") as demo:\n",
    "    conversation_id = gr.State(get_uuid)\n",
    "    gr.Markdown(\n",
    "        f\"\"\"<h1><center>OpenVINO {model_id} Chatbot</center></h1>\"\"\")\n",
    "    chatbot = gr.Chatbot(height=500)\n",
    "    with gr.Row():\n",
    "        with gr.Column():\n",
    "            msg = gr.Textbox(\n",
    "                label=\"Chat Message Box\",\n",
    "                placeholder=\"質問を書いて 'Submit' ボタンを押してください\",\n",
    "                show_label=False,\n",
    "                container=False,\n",
    "            )\n",
    "        with gr.Column():\n",
    "            with gr.Row():\n",
    "                submit = gr.Button(\"Submit\")\n",
    "                clear = gr.Button(\"Clear\")\n",
    "    with gr.Row():\n",
    "        with gr.Accordion(\"Advanced Options:\", open=False):\n",
    "            with gr.Row():\n",
    "                with gr.Column():\n",
    "                    with gr.Row():\n",
    "                        temperature = gr.Slider(\n",
    "                            label=\"Temperature\",\n",
    "                            value=0.1,\n",
    "                            minimum=0.0,\n",
    "                            maximum=1.0,\n",
    "                            step=0.1,\n",
    "                            interactive=True,\n",
    "                            info=\"Higher values produce more diverse outputs\",\n",
    "                        )\n",
    "                with gr.Column():\n",
    "                    with gr.Row():\n",
    "                        top_p = gr.Slider(\n",
    "                            label=\"Top-p (nucleus sampling)\",\n",
    "                            value=1.0,\n",
    "                            minimum=0.0,\n",
    "                            maximum=1,\n",
    "                            step=0.01,\n",
    "                            interactive=True,\n",
    "                            info=(\n",
    "                                \"Sample from the smallest possible set of tokens whose cumulative probability \"\n",
    "                                \"exceeds top_p. Set to 1 to disable and sample from all tokens.\"\n",
    "                            ),\n",
    "                        )\n",
    "                with gr.Column():\n",
    "                    with gr.Row():\n",
    "                        top_k = gr.Slider(\n",
    "                            label=\"Top-k\",\n",
    "                            value=50,\n",
    "                            minimum=0.0,\n",
    "                            maximum=200,\n",
    "                            step=1,\n",
    "                            interactive=True,\n",
    "                            info=\"Sample from a shortlist of top-k tokens — 0 to disable and sample from all tokens.\",\n",
    "                        )\n",
    "                with gr.Column():\n",
    "                    with gr.Row():\n",
    "                        repetition_penalty = gr.Slider(\n",
    "                            label=\"Repetition Penalty\",\n",
    "                            value=1.2,\n",
    "                            minimum=1.0,\n",
    "                            maximum=2.0,\n",
    "                            step=0.1,\n",
    "                            interactive=True,\n",
    "                            info=\"Penalize repetition — 1.0 to disable.\",\n",
    "                        )\n",
    "    gr.Examples(\n",
    "        examples, inputs=msg, label=\"以下の例文をクリックして 'Submit' ボタンを押してください\"\n",
    "    )\n",
    "\n",
    "    submit_event = msg.submit(\n",
    "        fn=user,\n",
    "        inputs=[msg, chatbot],\n",
    "        outputs=[msg, chatbot],\n",
    "        queue=False,\n",
    "    ).then(\n",
    "        fn=bot,\n",
    "        inputs=[\n",
    "            chatbot,\n",
    "            temperature,\n",
    "            top_p,\n",
    "            top_k,\n",
    "            repetition_penalty,\n",
    "            conversation_id,\n",
    "        ],\n",
    "        outputs=chatbot,\n",
    "        queue=True,\n",
    "    )\n",
    "    submit_click_event = submit.click(\n",
    "        fn=user,\n",
    "        inputs=[msg, chatbot],\n",
    "        outputs=[msg, chatbot],\n",
    "        queue=False,\n",
    "    ).then(\n",
    "        fn=bot,\n",
    "        inputs=[\n",
    "            chatbot,\n",
    "            temperature,\n",
    "            top_p,\n",
    "            top_k,\n",
    "            repetition_penalty,\n",
    "            conversation_id,\n",
    "        ],\n",
    "        outputs=chatbot,\n",
    "        queue=True,\n",
    "    )\n",
    "\n",
    "    clear.click(lambda: None, None, chatbot, queue=False)\n",
    "\n",
    "demo.launch()"
   ]
  }
 ],
 "metadata": {
  "kernelspec": {
   "display_name": "Python 3 (ipykernel)",
   "language": "python",
   "name": "python3"
  },
  "language_info": {
   "codemirror_mode": {
    "name": "ipython",
    "version": 3
   },
   "file_extension": ".py",
   "mimetype": "text/x-python",
   "name": "python",
   "nbconvert_exporter": "python",
   "pygments_lexer": "ipython3",
   "version": "3.10.6"
  }
 },
 "nbformat": 4,
 "nbformat_minor": 5
}
