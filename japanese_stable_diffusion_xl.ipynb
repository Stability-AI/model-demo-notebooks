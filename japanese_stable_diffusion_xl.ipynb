{
  "cells": [
    {
      "cell_type": "markdown",
      "metadata": {
        "id": "yxKn0STrLO3F"
      },
      "source": [
        "<a href=\"https://colab.research.google.com/github/Stability-AI/model-demo-notebooks/blob/main/japanese_stable_diffusion_xl.ipynb\" target=\"_parent\"><img src=\"https://colab.research.google.com/assets/colab-badge.svg\" alt=\"Open In Colab\"/></a>\n",
        "\n",
        "# Japanese Stable Diffusion XL Demo\n",
        "This is a demo for [Japanese Stable Diffusion XL](https://huggingface.co/stabilityai/japanese-stable-diffusion-xl) from [Stability AI](https://stability.ai/).\n",
        "\n",
        "- Blog: https://ja.stability.ai/blog/japanese-stable-diffusion-xl\n",
        "- Twitter: https://twitter.com/StabilityAI_JP\n",
        "- Discord: https://discord.com/invite/StableJP\n"
      ]
    },
    {
      "cell_type": "code",
      "execution_count": null,
      "metadata": {
        "cellView": "form",
        "id": "K92bGOlkLNC5"
      },
      "outputs": [],
      "source": [
        "#@title Setup\n",
        "!nvidia-smi\n",
        "!pip install 'diffusers>=0.23.0' transformers sentencepiece gradio accelerate"
      ]
    },
    {
      "cell_type": "code",
      "execution_count": null,
      "metadata": {
        "cellView": "form",
        "id": "uNNRyH3WLw84"
      },
      "outputs": [],
      "source": [
        "# @title Login HuggingFace\n",
        "!huggingface-cli login"
      ]
    },
    {
      "cell_type": "code",
      "execution_count": null,
      "metadata": {
        "cellView": "form",
        "id": "mKC-h58pLyOu"
      },
      "outputs": [],
      "source": [
        "#@title Load JSDXL\n",
        "from diffusers import DiffusionPipeline\n",
        "import torch\n",
        "\n",
        "pipe = DiffusionPipeline.from_pretrained(\n",
        "    \"stabilityai/japanese-stable-diffusion-xl\",\n",
        "    trust_remote_code=True,\n",
        "    torch_dtype=torch.float16\n",
        ")\n",
        "# if using torch < 2.0\n",
        "# pipeline.enable_xformers_memory_efficient_attention()\n",
        "pipe.to(\"cuda\")\n"
      ]
    },
    {
      "cell_type": "code",
      "execution_count": null,
      "metadata": {
        "cellView": "form",
        "id": "MPX7dCw1MAof"
      },
      "outputs": [],
      "source": [
        "# @title Launch the demo\n",
        "import random\n",
        "import gc\n",
        "import gradio as gr\n",
        "from diffusers.utils import make_image_grid\n",
        "\n",
        "\n",
        "def infer_func(\n",
        "    prompt,\n",
        "    scale=7.5,\n",
        "    steps=40,\n",
        "    W=1024,\n",
        "    H=1024,\n",
        "    n_samples=1,\n",
        "    seed=\"random\",\n",
        "    negative_prompt=\"\",\n",
        "):\n",
        "    scale = float(scale)\n",
        "    steps = int(steps)\n",
        "    W = int(W)\n",
        "    H = int(H)\n",
        "    n_samples = int(n_samples)\n",
        "    if seed == \"random\":\n",
        "        seed = random.randint(0, 2**32)\n",
        "    seed = int(seed)\n",
        "\n",
        "    images = pipe(\n",
        "        prompt=prompt,\n",
        "        negative_prompt=negative_prompt if len(negative_prompt) > 0 else None,\n",
        "        guidance_scale=scale,\n",
        "        generator=torch.Generator(device=\"cuda\").manual_seed(seed),\n",
        "        num_images_per_prompt=n_samples,\n",
        "        num_inference_steps=steps,\n",
        "        height=H,\n",
        "        width=W,\n",
        "    ).images\n",
        "    grid = make_image_grid(images, 1, len(images))\n",
        "    gc.collect()\n",
        "    torch.cuda.empty_cache()\n",
        "    return grid, images, {\"seed\": seed}\n",
        "\n",
        "\n",
        "with gr.Blocks() as demo:\n",
        "    gr.Markdown(\"# Japanese Stable Diffusion XL Demo\")\n",
        "    gr.Markdown(\n",
        "        \"\"\"[Japanese Stable Diffusion XL](https://huggingface.co/stabilityai/japanese-stable-diffusion-xl) is a Japanese-specific SDXL by [Stability AI](https://ja.stability.ai/).\n",
        "                - Blog: https://ja.stability.ai/blog/japanese-stable-diffusion-xl\n",
        "                - Twitter: https://twitter.com/StabilityAI_JP\n",
        "                - Discord: https://discord.com/invite/StableJP\"\"\"\n",
        "    )\n",
        "    with gr.Row():\n",
        "        with gr.Column():\n",
        "            prompt = gr.Textbox(label=\"prompt\", max_lines=1, value=\"カラフルなペンギン、アート\")\n",
        "            scale = gr.Number(value=7.5, label=\"cfg_scale\")\n",
        "            steps = gr.Number(value=40, label=\"steps\")\n",
        "            width = gr.Number(value=1024, label=\"width\")\n",
        "            height = gr.Number(value=1024, label=\"height\")\n",
        "            n_samples = gr.Number(value=1, label=\"n_samples\", precision=0, maximum=5)\n",
        "            seed = gr.Text(value=\"42\", label=\"seed (integer or 'random')\")\n",
        "            negative_prompt = gr.Textbox(label=\"negative prompt\", value=\"\")\n",
        "            btn = gr.Button(\"Run\")\n",
        "        with gr.Column():\n",
        "            out = gr.Image(label=\"grid\")\n",
        "            gallery = gr.Gallery(label=\"Generated images\", show_label=False)\n",
        "            info = gr.JSON(label=\"sampling_info\")\n",
        "    inputs = [\n",
        "        prompt,\n",
        "        scale,\n",
        "        steps,\n",
        "        width,\n",
        "        height,\n",
        "        n_samples,\n",
        "        seed,\n",
        "        negative_prompt,\n",
        "    ]\n",
        "    prompt.submit(infer_func, inputs=inputs, outputs=[out, gallery, info])\n",
        "    btn.click(infer_func, inputs=inputs, outputs=[out, gallery, info])\n",
        "\n",
        "demo.launch(debug=True, share=True, show_error=True)\n"
      ]
    }
  ],
  "metadata": {
    "accelerator": "GPU",
    "colab": {
      "gpuType": "T4",
      "name": "japanese_stable_diffusion_xl.ipynb",
      "private_outputs": true,
      "provenance": []
    },
    "kernelspec": {
      "display_name": "Python 3",
      "name": "python3"
    },
    "language_info": {
      "name": "python"
    }
  },
  "nbformat": 4,
  "nbformat_minor": 0
}
